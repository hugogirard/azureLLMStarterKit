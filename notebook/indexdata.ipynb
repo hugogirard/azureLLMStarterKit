{
 "cells": [
  {
   "cell_type": "code",
   "execution_count": null,
   "id": "c710e456",
   "metadata": {},
   "outputs": [],
   "source": [
    "%pip install -r requirements.txt"
   ]
  },
  {
   "cell_type": "code",
   "execution_count": 66,
   "id": "baca73ec",
   "metadata": {},
   "outputs": [
    {
     "data": {
      "text/plain": [
       "True"
      ]
     },
     "execution_count": 66,
     "metadata": {},
     "output_type": "execute_result"
    }
   ],
   "source": [
    "from dotenv import load_dotenv\n",
    "\n",
    "load_dotenv(override=True)"
   ]
  },
  {
   "cell_type": "markdown",
   "id": "c7d35cf5",
   "metadata": {},
   "source": [
    "Create the Azure Index Search"
   ]
  },
  {
   "cell_type": "code",
   "execution_count": null,
   "id": "71d326ab",
   "metadata": {},
   "outputs": [],
   "source": [
    "from azure.identity import DefaultAzureCredential\n",
    "\n",
    "from azure.identity import get_bearer_token_provider\n",
    "from azure.search.documents.indexes import SearchIndexClient\n",
    "from azure.search.documents.indexes.models import (\n",
    "    SearchField,\n",
    "    SearchFieldDataType,\n",
    "    VectorSearch,\n",
    "    HnswAlgorithmConfiguration,\n",
    "    VectorSearchProfile,\n",
    "    SearchIndex\n",
    ")\n",
    "import os\n",
    "\n",
    "credential = DefaultAzureCredential()\n",
    "\n",
    "# Create a search index  \n",
    "index_name = \"recipe_book_idx\"\n",
    "index_client = SearchIndexClient(endpoint=os.getenv('AZURE_AI_SEARCH_ENDPOINT'), credential=credential)  \n",
    "fields = [    \n",
    "    SearchField(name=\"id\", type=SearchFieldDataType.String,key=True),           \n",
    "    SearchField(name=\"country\", type=SearchFieldDataType.String, searchable=True,sortable=False, facetable=True, filterable=False),  \n",
    "    SearchField(name=\"city\", type=SearchFieldDataType.String, searchable=True,sortable=False, facetable=False, filterable=False),\n",
    "    SearchField(name=\"recipe_name\", type=SearchFieldDataType.String,searchable=True,sortable=False, facetable=False, filterable=False),\n",
    "    SearchField(name=\"description\", type=SearchFieldDataType.String,searchable=True,sortable=False, facetable=False, filterable=False),    \n",
    "    SearchField(name=\"vector_description\", type=SearchFieldDataType.Collection(SearchFieldDataType.Single), vector_search_dimensions=1536, vector_search_profile_name=\"vector-profile-1\",searchable=True,sortable=False, facetable=False, filterable=False),\n",
    "    SearchField(name=\"ingredients\", type=SearchFieldDataType.Collection(SearchFieldDataType.String),searchable=True,sortable=False, facetable=False, filterable=False),    \n",
    "    SearchField(name=\"instructions\", type=SearchFieldDataType.String,searchable=True,sortable=False, facetable=False, filterable=False)    \n",
    "]  \n",
    "\n",
    "# Configure the vector search configuration  \n",
    "vector_search = VectorSearch(  \n",
    "    algorithms=[  \n",
    "        HnswAlgorithmConfiguration(name=\"myHnsw\"),\n",
    "    ],  \n",
    "    profiles=[  \n",
    "        VectorSearchProfile(  \n",
    "            name=\"vector-profile-1\",  \n",
    "            algorithm_configuration_name=\"myHnsw\"\n",
    "        )\n",
    "    ]\n",
    ")  \n",
    "\n",
    "# Create the search index\n",
    "index = SearchIndex(name=index_name, fields=fields, vector_search=vector_search)  \n",
    "result = index_client.create_or_update_index(index)  \n",
    "print(f\"{result.name} created\")"
   ]
  },
  {
   "cell_type": "markdown",
   "id": "ba523787",
   "metadata": {},
   "source": [
    "This code is not needed to run just to show how we create the embedding, if you add more rows run this method"
   ]
  },
  {
   "cell_type": "code",
   "execution_count": null,
   "id": "2973b2e5",
   "metadata": {},
   "outputs": [],
   "source": [
    "import json\n",
    "import uuid\n",
    "import os\n",
    "from azure.identity import DefaultAzureCredential, get_bearer_token_provider\n",
    "from openai import AzureOpenAI\n",
    "\n",
    "endpoint = os.getenv('AZURE_OPENAI_ENDPOINT')\n",
    "model_name = \"text-embedding-3-small\"\n",
    "deployment = \"text-embedding-3-small\"\n",
    "\n",
    "token_provider = get_bearer_token_provider(DefaultAzureCredential(), \"https://cognitiveservices.azure.com/.default\")\n",
    "api_version = \"2024-10-21\"\n",
    "\n",
    "client = AzureOpenAI(\n",
    "  api_key = os.getenv(\"AZURE_OPENAI_API_KEY\"),  \n",
    "  api_version = api_version,\n",
    "  azure_ad_token_provider=token_provider,\n",
    ")\n",
    "\n",
    "# Load recipes.json\n",
    "with open(\"./recipes/recipes.json\", \"r\") as file:\n",
    "    recipes = json.load(file)\n",
    "\n",
    "for recipe in recipes:\n",
    "    description = recipe.get(\"description\", \"\")\n",
    "    if description:\n",
    "        response = client.embeddings.create(\n",
    "            input=[description],\n",
    "            model=deployment\n",
    "        )\n",
    "        recipe[\"id\"] = str(uuid.uuid4())\n",
    "        recipe[\"vector_description\"] = response.data[0].embedding \n",
    "\n",
    "with open(\"updated_recipes.json\", \"w\") as file:\n",
    "    json.dump(recipes, file, indent=4)          \n",
    "\n",
    "print(\"Embeddings generated and saved to updated_recipes.json\")     "
   ]
  },
  {
   "cell_type": "markdown",
   "id": "f0b0c71e",
   "metadata": {},
   "source": [
    "Uploads all document in Azure AI Search, you need to have the RBAC **Search Index Data Contributor** to have this to work."
   ]
  },
  {
   "cell_type": "code",
   "execution_count": 63,
   "id": "1ff23e0b",
   "metadata": {},
   "outputs": [],
   "source": [
    "# Upload documents in index\n",
    "from azure.search.documents import SearchClient\n",
    "\n",
    "output_path = os.path.join('recipes', 'updated_recipes.json')\n",
    "output_directory = os.path.dirname(output_path)\n",
    "\n",
    "with open(output_path, 'r') as file:  \n",
    "    documents = json.load(file)  \n",
    "\n",
    "credential = DefaultAzureCredential()\n",
    "\n",
    "# Create a search index  \n",
    "search_client = SearchClient(endpoint=os.getenv('AZURE_AI_SEARCH_ENDPOINT'), credential=credential, index_name=index_name)\n",
    "\n",
    "result = search_client.upload_documents(documents)  "
   ]
  }
 ],
 "metadata": {
  "kernelspec": {
   "display_name": ".venv",
   "language": "python",
   "name": "python3"
  },
  "language_info": {
   "codemirror_mode": {
    "name": "ipython",
    "version": 3
   },
   "file_extension": ".py",
   "mimetype": "text/x-python",
   "name": "python",
   "nbconvert_exporter": "python",
   "pygments_lexer": "ipython3",
   "version": "3.12.8"
  }
 },
 "nbformat": 4,
 "nbformat_minor": 5
}
